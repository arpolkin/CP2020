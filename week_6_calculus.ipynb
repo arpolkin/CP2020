{
 "cells": [
  {
   "cell_type": "markdown",
   "metadata": {},
   "source": [
    "# Part I. One-sided finite differences"
   ]
  },
  {
   "cell_type": "markdown",
   "metadata": {},
   "source": [
    "Write a function, `deriv`, which computes a derivative of its argument at a given point, $x$, using a one-sided finite difference rule with a given step side $h$, with the approximation order of $O(h^2)$. "
   ]
  },
  {
   "cell_type": "code",
   "execution_count": 2,
   "metadata": {},
   "outputs": [],
   "source": [
    "def deriv(f, x, h):\n",
    "    \"\"\" Compute a derivative of `f` at point `x` with step size `h`.\n",
    "    \n",
    "    Compute the derivative using the one-sided rule of the approximation order of $O(h^2)$.\n",
    "    \n",
    "    Parameters\n",
    "    ----------\n",
    "    f : callable\n",
    "        The function to differentiate\n",
    "    x : float\n",
    "        The point to compute the derivative at.\n",
    "    h : float\n",
    "        The step size for the finite different rule.\n",
    "        \n",
    "    Returns\n",
    "    -------\n",
    "    fder : derivative of f(x) at point x using the step size h.\n",
    "    \"\"\"\n",
    "    # ... ENTER YOUR CODE HERE ...\n",
    "    fder = (-3/2*f(x)+2*f(x+h)-1/2*f(x+2*h))/h\n",
    "    return fder"
   ]
  },
  {
   "cell_type": "markdown",
   "metadata": {},
   "source": [
    "#### Test I.1\n",
    "\n",
    "Test your function on a simple test case: differentiate $f(x) = x^3$ at $x=0$. Comment on whether your results are consistent with the expected value of $f'(x) = 0$ and on an expected scaling with $h\\to 0$.\n",
    "\n",
    " (10% of the total grade)"
   ]
  },
  {
   "cell_type": "code",
   "execution_count": 3,
   "metadata": {},
   "outputs": [
    {
     "name": "stdout",
     "output_type": "stream",
     "text": "0.010000 -- -0.0002\n0.001000 --  -2e-06\n0.000100 --  -2e-08\n0.000010 --  -2e-10\n0.000001 --  -2e-12\n0.000000 --  -2e-14\n0.000000 --  -2e-16\n0.000000 --  -2e-18\n0.000000 --  -2e-20\n0.000000 --  -2e-22\n0.000000 --  -2e-24\n0.000000 --  -2e-26\n0.000000 --  -2e-28\n0.000000 --  -2e-30\n0.000000 --  -2e-32\n"
    }
   ],
   "source": [
    "x = 0\n",
    "for h in [1e-2, 1e-3, 1e-4, 1e-5, 1e-6, 1e-7, 1e-8, 1e-9, 1e-10,1e-11,1e-12,1e-13,1e-14,1e-15,1e-16]:\n",
    "    err = deriv(lambda x: x**3, x, h)\n",
    "    print(\"%5f -- %7.4g\" % (h, err))"
   ]
  },
  {
   "cell_type": "markdown",
   "metadata": {},
   "source": [
    " ... ENTER YOUR COMMENTS HERE ...\n",
    " При уменьшении значения параметра $h$ на порядок значение производной становится ближе к настоящему как квадрат. Результаты, казалось бы, усточйчивы\n"
   ]
  },
  {
   "cell_type": "markdown",
   "metadata": {},
   "source": [
    "### Test I.2\n",
    "\n",
    "Now use a slightly more complicated function, $f(x) = x^2 \\log{x}$, evaluate the derivative at $x=1$ using your one-sided rule and a two-point one-sided rule. Roughly estimate the value of $h$ where the error stops decreasing, for these two schemes. \n",
    "(15% of the total grade)"
   ]
  },
  {
   "cell_type": "code",
   "execution_count": 4,
   "metadata": {},
   "outputs": [],
   "source": [
    "from math import log\n",
    "\n",
    "\n",
    "def f(x):\n",
    "    return x**2 * log(x)\n",
    "    \n",
    "\n",
    "def fder(x):\n",
    "    return x * (2.*log(x) + 1)\n",
    "\n",
    "\n"
   ]
  },
  {
   "cell_type": "code",
   "execution_count": 5,
   "metadata": {},
   "outputs": [
    {
     "data": {
      "text/plain": "[]"
     },
     "execution_count": 5,
     "metadata": {},
     "output_type": "execute_result"
    },
    {
     "data": {
      "image/png": "[encoded data removed]",
      "image/svg+xml": "<?xml version=\"1.0\" encoding=\"utf-8\" standalone=\"no\"?>\n<!DOCTYPE svg PUBLIC \"-//W3C//DTD SVG 1.1//EN\"\n  \"http://www.w3.org/Graphics/SVG/1.1/DTD/svg11.dtd\">\n<!-- Created with matplotlib (https://matplotlib.org/) -->\n<svg height=\"262.19625pt\" version=\"1.1\" viewBox=\"0 0 393.378125 262.19625\" width=\"393.378125pt\" xmlns=\"http://www.w3.org/2000/svg\" xmlns:xlink=\"http://www.w3.org/1999/xlink\">\n <defs>\n  <style type=\"text/css\">\n*{stroke-linecap:butt;stroke-linejoin:round;}\n  </style>\n </defs>\n <g id=\"figure_1\">\n  <g id=\"patch_1\">\n   <path d=\"M 0 262.19625 \nL 393.378125 262.19625 \nL 393.378125 0 \nL 0 0 \nz\n\" style=\"fill:none;\"/>\n  </g>\n  <g id=\"axes_1\">\n   <g id=\"patch_2\">\n    <path d=\"M 51.378125 224.64 \nL 386.178125 224.64 \nL 386.178125 7.2 \nL 51.378125 7.2 \nz\n\" style=\"fill:#ffffff;\"/>\n   </g>\n   <g id=\"matplotlib.axis_1\">\n    <g id=\"xtick_1\">\n     <g id=\"line2d_1\">\n      <defs>\n       <path d=\"M 0 0 \nL 0 3.5 \n\" id=\"m2e1e047410\" style=\"stroke:#000000;stroke-width:0.8;\"/>\n      </defs>\n      <g>\n       <use style=\"stroke:#000000;stroke-width:0.8;\" x=\"88.336567\" xlink:href=\"#m2e1e047410\" y=\"224.64\"/>\n      </g>\n     </g>\n     <g id=\"text_1\">\n      <!-- $\\mathdefault{10^{-15}}$ -->\n      <defs>\n       <path d=\"M 12.40625 8.296875 \nL 28.515625 8.296875 \nL 28.515625 63.921875 \nL 10.984375 60.40625 \nL 10.984375 69.390625 \nL 28.421875 72.90625 \nL 38.28125 72.90625 \nL 38.28125 8.296875 \nL 54.390625 8.296875 \nL 54.390625 0 \nL 12.40625 0 \nz\n\" id=\"DejaVuSans-49\"/>\n       <path d=\"M 31.78125 66.40625 \nQ 24.171875 66.40625 20.328125 58.90625 \nQ 16.5 51.421875 16.5 36.375 \nQ 16.5 21.390625 20.328125 13.890625 \nQ 24.171875 6.390625 31.78125 6.390625 \nQ 39.453125 6.390625 43.28125 13.890625 \nQ 47.125 21.390625 47.125 36.375 \nQ 47.125 51.421875 43.28125 58.90625 \nQ 39.453125 66.40625 31.78125 66.40625 \nz\nM 31.78125 74.21875 \nQ 44.046875 74.21875 50.515625 64.515625 \nQ 56.984375 54.828125 56.984375 36.375 \nQ 56.984375 17.96875 50.515625 8.265625 \nQ 44.046875 -1.421875 31.78125 -1.421875 \nQ 19.53125 -1.421875 13.0625 8.265625 \nQ 6.59375 17.96875 6.59375 36.375 \nQ 6.59375 54.828125 13.0625 64.515625 \nQ 19.53125 74.21875 31.78125 74.21875 \nz\n\" id=\"DejaVuSans-48\"/>\n       <path d=\"M 10.59375 35.5 \nL 73.1875 35.5 \nL 73.1875 27.203125 \nL 10.59375 27.203125 \nz\n\" id=\"DejaVuSans-8722\"/>\n       <path d=\"M 10.796875 72.90625 \nL 49.515625 72.90625 \nL 49.515625 64.59375 \nL 19.828125 64.59375 \nL 19.828125 46.734375 \nQ 21.96875 47.46875 24.109375 47.828125 \nQ 26.265625 48.1875 28.421875 48.1875 \nQ 40.625 48.1875 47.75 41.5 \nQ 54.890625 34.8125 54.890625 23.390625 \nQ 54.890625 11.625 47.5625 5.09375 \nQ 40.234375 -1.421875 26.90625 -1.421875 \nQ 22.3125 -1.421875 17.546875 -0.640625 \nQ 12.796875 0.140625 7.71875 1.703125 \nL 7.71875 11.625 \nQ 12.109375 9.234375 16.796875 8.0625 \nQ 21.484375 6.890625 26.703125 6.890625 \nQ 35.15625 6.890625 40.078125 11.328125 \nQ 45.015625 15.765625 45.015625 23.390625 \nQ 45.015625 31 40.078125 35.4375 \nQ 35.15625 39.890625 26.703125 39.890625 \nQ 22.75 39.890625 18.8125 39.015625 \nQ 14.890625 38.140625 10.796875 36.28125 \nz\n\" id=\"DejaVuSans-53\"/>\n      </defs>\n      <g transform=\"translate(74.386567 239.238438)scale(0.1 -0.1)\">\n       <use transform=\"translate(0 0.684375)\" xlink:href=\"#DejaVuSans-49\"/>\n       <use transform=\"translate(63.623047 0.684375)\" xlink:href=\"#DejaVuSans-48\"/>\n       <use transform=\"translate(128.203125 38.965625)scale(0.7)\" xlink:href=\"#DejaVuSans-8722\"/>\n       <use transform=\"translate(186.855469 38.965625)scale(0.7)\" xlink:href=\"#DejaVuSans-49\"/>\n       <use transform=\"translate(231.391602 38.965625)scale(0.7)\" xlink:href=\"#DejaVuSans-53\"/>\n      </g>\n     </g>\n    </g>\n    <g id=\"xtick_2\">\n     <g id=\"line2d_2\">\n      <g>\n       <use style=\"stroke:#000000;stroke-width:0.8;\" x=\"131.817086\" xlink:href=\"#m2e1e047410\" y=\"224.64\"/>\n      </g>\n     </g>\n     <g id=\"text_2\">\n      <!-- $\\mathdefault{10^{-13}}$ -->\n      <defs>\n       <path d=\"M 40.578125 39.3125 \nQ 47.65625 37.796875 51.625 33 \nQ 55.609375 28.21875 55.609375 21.1875 \nQ 55.609375 10.40625 48.1875 4.484375 \nQ 40.765625 -1.421875 27.09375 -1.421875 \nQ 22.515625 -1.421875 17.65625 -0.515625 \nQ 12.796875 0.390625 7.625 2.203125 \nL 7.625 11.71875 \nQ 11.71875 9.328125 16.59375 8.109375 \nQ 21.484375 6.890625 26.8125 6.890625 \nQ 36.078125 6.890625 40.9375 10.546875 \nQ 45.796875 14.203125 45.796875 21.1875 \nQ 45.796875 27.640625 41.28125 31.265625 \nQ 36.765625 34.90625 28.71875 34.90625 \nL 20.21875 34.90625 \nL 20.21875 43.015625 \nL 29.109375 43.015625 \nQ 36.375 43.015625 40.234375 45.921875 \nQ 44.09375 48.828125 44.09375 54.296875 \nQ 44.09375 59.90625 40.109375 62.90625 \nQ 36.140625 65.921875 28.71875 65.921875 \nQ 24.65625 65.921875 20.015625 65.03125 \nQ 15.375 64.15625 9.8125 62.3125 \nL 9.8125 71.09375 \nQ 15.4375 72.65625 20.34375 73.4375 \nQ 25.25 74.21875 29.59375 74.21875 \nQ 40.828125 74.21875 47.359375 69.109375 \nQ 53.90625 64.015625 53.90625 55.328125 \nQ 53.90625 49.265625 50.4375 45.09375 \nQ 46.96875 40.921875 40.578125 39.3125 \nz\n\" id=\"DejaVuSans-51\"/>\n      </defs>\n      <g transform=\"translate(117.867086 239.238438)scale(0.1 -0.1)\">\n       <use transform=\"translate(0 0.765625)\" xlink:href=\"#DejaVuSans-49\"/>\n       <use transform=\"translate(63.623047 0.765625)\" xlink:href=\"#DejaVuSans-48\"/>\n       <use transform=\"translate(128.203125 39.046875)scale(0.7)\" xlink:href=\"#DejaVuSans-8722\"/>\n       <use transform=\"translate(186.855469 39.046875)scale(0.7)\" xlink:href=\"#DejaVuSans-49\"/>\n       <use transform=\"translate(231.391602 39.046875)scale(0.7)\" xlink:href=\"#DejaVuSans-51\"/>\n      </g>\n     </g>\n    </g>\n    <g id=\"xtick_3\">\n     <g id=\"line2d_3\">\n      <g>\n       <use style=\"stroke:#000000;stroke-width:0.8;\" x=\"175.297606\" xlink:href=\"#m2e1e047410\" y=\"224.64\"/>\n      </g>\n     </g>\n     <g id=\"text_3\">\n      <!-- $\\mathdefault{10^{-11}}$ -->\n      <g transform=\"translate(161.347606 239.238438)scale(0.1 -0.1)\">\n       <use transform=\"translate(0 0.684375)\" xlink:href=\"#DejaVuSans-49\"/>\n       <use transform=\"translate(63.623047 0.684375)\" xlink:href=\"#DejaVuSans-48\"/>\n       <use transform=\"translate(128.203125 38.965625)scale(0.7)\" xlink:href=\"#DejaVuSans-8722\"/>\n       <use transform=\"translate(186.855469 38.965625)scale(0.7)\" xlink:href=\"#DejaVuSans-49\"/>\n       <use transform=\"translate(231.391602 38.965625)scale(0.7)\" xlink:href=\"#DejaVuSans-49\"/>\n      </g>\n     </g>\n    </g>\n    <g id=\"xtick_4\">\n     <g id=\"line2d_4\">\n      <g>\n       <use style=\"stroke:#000000;stroke-width:0.8;\" x=\"218.778125\" xlink:href=\"#m2e1e047410\" y=\"224.64\"/>\n      </g>\n     </g>\n     <g id=\"text_4\">\n      <!-- $\\mathdefault{10^{-9}}$ -->\n      <defs>\n       <path d=\"M 10.984375 1.515625 \nL 10.984375 10.5 \nQ 14.703125 8.734375 18.5 7.8125 \nQ 22.3125 6.890625 25.984375 6.890625 \nQ 35.75 6.890625 40.890625 13.453125 \nQ 46.046875 20.015625 46.78125 33.40625 \nQ 43.953125 29.203125 39.59375 26.953125 \nQ 35.25 24.703125 29.984375 24.703125 \nQ 19.046875 24.703125 12.671875 31.3125 \nQ 6.296875 37.9375 6.296875 49.421875 \nQ 6.296875 60.640625 12.9375 67.421875 \nQ 19.578125 74.21875 30.609375 74.21875 \nQ 43.265625 74.21875 49.921875 64.515625 \nQ 56.59375 54.828125 56.59375 36.375 \nQ 56.59375 19.140625 48.40625 8.859375 \nQ 40.234375 -1.421875 26.421875 -1.421875 \nQ 22.703125 -1.421875 18.890625 -0.6875 \nQ 15.09375 0.046875 10.984375 1.515625 \nz\nM 30.609375 32.421875 \nQ 37.25 32.421875 41.125 36.953125 \nQ 45.015625 41.5 45.015625 49.421875 \nQ 45.015625 57.28125 41.125 61.84375 \nQ 37.25 66.40625 30.609375 66.40625 \nQ 23.96875 66.40625 20.09375 61.84375 \nQ 16.21875 57.28125 16.21875 49.421875 \nQ 16.21875 41.5 20.09375 36.953125 \nQ 23.96875 32.421875 30.609375 32.421875 \nz\n\" id=\"DejaVuSans-57\"/>\n      </defs>\n      <g transform=\"translate(207.028125 239.238438)scale(0.1 -0.1)\">\n       <use transform=\"translate(0 0.765625)\" xlink:href=\"#DejaVuSans-49\"/>\n       <use transform=\"translate(63.623047 0.765625)\" xlink:href=\"#DejaVuSans-48\"/>\n       <use transform=\"translate(128.203125 39.046875)scale(0.7)\" xlink:href=\"#DejaVuSans-8722\"/>\n       <use transform=\"translate(186.855469 39.046875)scale(0.7)\" xlink:href=\"#DejaVuSans-57\"/>\n      </g>\n     </g>\n    </g>\n    <g id=\"xtick_5\">\n     <g id=\"line2d_5\">\n      <g>\n       <use style=\"stroke:#000000;stroke-width:0.8;\" x=\"262.258644\" xlink:href=\"#m2e1e047410\" y=\"224.64\"/>\n      </g>\n     </g>\n     <g id=\"text_5\">\n      <!-- $\\mathdefault{10^{-7}}$ -->\n      <defs>\n       <path d=\"M 8.203125 72.90625 \nL 55.078125 72.90625 \nL 55.078125 68.703125 \nL 28.609375 0 \nL 18.3125 0 \nL 43.21875 64.59375 \nL 8.203125 64.59375 \nz\n\" id=\"DejaVuSans-55\"/>\n      </defs>\n      <g transform=\"translate(250.508644 239.238438)scale(0.1 -0.1)\">\n       <use transform=\"translate(0 0.684375)\" xlink:href=\"#DejaVuSans-49\"/>\n       <use transform=\"translate(63.623047 0.684375)\" xlink:href=\"#DejaVuSans-48\"/>\n       <use transform=\"translate(128.203125 38.965625)scale(0.7)\" xlink:href=\"#DejaVuSans-8722\"/>\n       <use transform=\"translate(186.855469 38.965625)scale(0.7)\" xlink:href=\"#DejaVuSans-55\"/>\n      </g>\n     </g>\n    </g>\n    <g id=\"xtick_6\">\n     <g id=\"line2d_6\">\n      <g>\n       <use style=\"stroke:#000000;stroke-width:0.8;\" x=\"305.739164\" xlink:href=\"#m2e1e047410\" y=\"224.64\"/>\n      </g>\n     </g>\n     <g id=\"text_6\">\n      <!-- $\\mathdefault{10^{-5}}$ -->\n      <g transform=\"translate(293.989164 239.238438)scale(0.1 -0.1)\">\n       <use transform=\"translate(0 0.684375)\" xlink:href=\"#DejaVuSans-49\"/>\n       <use transform=\"translate(63.623047 0.684375)\" xlink:href=\"#DejaVuSans-48\"/>\n       <use transform=\"translate(128.203125 38.965625)scale(0.7)\" xlink:href=\"#DejaVuSans-8722\"/>\n       <use transform=\"translate(186.855469 38.965625)scale(0.7)\" xlink:href=\"#DejaVuSans-53\"/>\n      </g>\n     </g>\n    </g>\n    <g id=\"xtick_7\">\n     <g id=\"line2d_7\">\n      <g>\n       <use style=\"stroke:#000000;stroke-width:0.8;\" x=\"349.219683\" xlink:href=\"#m2e1e047410\" y=\"224.64\"/>\n      </g>\n     </g>\n     <g id=\"text_7\">\n      <!-- $\\mathdefault{10^{-3}}$ -->\n      <g transform=\"translate(337.469683 239.238438)scale(0.1 -0.1)\">\n       <use transform=\"translate(0 0.765625)\" xlink:href=\"#DejaVuSans-49\"/>\n       <use transform=\"translate(63.623047 0.765625)\" xlink:href=\"#DejaVuSans-48\"/>\n       <use transform=\"translate(128.203125 39.046875)scale(0.7)\" xlink:href=\"#DejaVuSans-8722\"/>\n       <use transform=\"translate(186.855469 39.046875)scale(0.7)\" xlink:href=\"#DejaVuSans-51\"/>\n      </g>\n     </g>\n    </g>\n    <g id=\"text_8\">\n     <!-- step -->\n     <defs>\n      <path d=\"M 44.28125 53.078125 \nL 44.28125 44.578125 \nQ 40.484375 46.53125 36.375 47.5 \nQ 32.28125 48.484375 27.875 48.484375 \nQ 21.1875 48.484375 17.84375 46.4375 \nQ 14.5 44.390625 14.5 40.28125 \nQ 14.5 37.15625 16.890625 35.375 \nQ 19.28125 33.59375 26.515625 31.984375 \nL 29.59375 31.296875 \nQ 39.15625 29.25 43.1875 25.515625 \nQ 47.21875 21.78125 47.21875 15.09375 \nQ 47.21875 7.46875 41.1875 3.015625 \nQ 35.15625 -1.421875 24.609375 -1.421875 \nQ 20.21875 -1.421875 15.453125 -0.5625 \nQ 10.6875 0.296875 5.421875 2 \nL 5.421875 11.28125 \nQ 10.40625 8.6875 15.234375 7.390625 \nQ 20.0625 6.109375 24.8125 6.109375 \nQ 31.15625 6.109375 34.5625 8.28125 \nQ 37.984375 10.453125 37.984375 14.40625 \nQ 37.984375 18.0625 35.515625 20.015625 \nQ 33.0625 21.96875 24.703125 23.78125 \nL 21.578125 24.515625 \nQ 13.234375 26.265625 9.515625 29.90625 \nQ 5.8125 33.546875 5.8125 39.890625 \nQ 5.8125 47.609375 11.28125 51.796875 \nQ 16.75 56 26.8125 56 \nQ 31.78125 56 36.171875 55.265625 \nQ 40.578125 54.546875 44.28125 53.078125 \nz\n\" id=\"DejaVuSans-115\"/>\n      <path d=\"M 18.3125 70.21875 \nL 18.3125 54.6875 \nL 36.8125 54.6875 \nL 36.8125 47.703125 \nL 18.3125 47.703125 \nL 18.3125 18.015625 \nQ 18.3125 11.328125 20.140625 9.421875 \nQ 21.96875 7.515625 27.59375 7.515625 \nL 36.8125 7.515625 \nL 36.8125 0 \nL 27.59375 0 \nQ 17.1875 0 13.234375 3.875 \nQ 9.28125 7.765625 9.28125 18.015625 \nL 9.28125 47.703125 \nL 2.6875 47.703125 \nL 2.6875 54.6875 \nL 9.28125 54.6875 \nL 9.28125 70.21875 \nz\n\" id=\"DejaVuSans-116\"/>\n      <path d=\"M 56.203125 29.59375 \nL 56.203125 25.203125 \nL 14.890625 25.203125 \nQ 15.484375 15.921875 20.484375 11.0625 \nQ 25.484375 6.203125 34.421875 6.203125 \nQ 39.59375 6.203125 44.453125 7.46875 \nQ 49.3125 8.734375 54.109375 11.28125 \nL 54.109375 2.78125 \nQ 49.265625 0.734375 44.1875 -0.34375 \nQ 39.109375 -1.421875 33.890625 -1.421875 \nQ 20.796875 -1.421875 13.15625 6.1875 \nQ 5.515625 13.8125 5.515625 26.8125 \nQ 5.515625 40.234375 12.765625 48.109375 \nQ 20.015625 56 32.328125 56 \nQ 43.359375 56 49.78125 48.890625 \nQ 56.203125 41.796875 56.203125 29.59375 \nz\nM 47.21875 32.234375 \nQ 47.125 39.59375 43.09375 43.984375 \nQ 39.0625 48.390625 32.421875 48.390625 \nQ 24.90625 48.390625 20.390625 44.140625 \nQ 15.875 39.890625 15.1875 32.171875 \nz\n\" id=\"DejaVuSans-101\"/>\n      <path d=\"M 18.109375 8.203125 \nL 18.109375 -20.796875 \nL 9.078125 -20.796875 \nL 9.078125 54.6875 \nL 18.109375 54.6875 \nL 18.109375 46.390625 \nQ 20.953125 51.265625 25.265625 53.625 \nQ 29.59375 56 35.59375 56 \nQ 45.5625 56 51.78125 48.09375 \nQ 58.015625 40.1875 58.015625 27.296875 \nQ 58.015625 14.40625 51.78125 6.484375 \nQ 45.5625 -1.421875 35.59375 -1.421875 \nQ 29.59375 -1.421875 25.265625 0.953125 \nQ 20.953125 3.328125 18.109375 8.203125 \nz\nM 48.6875 27.296875 \nQ 48.6875 37.203125 44.609375 42.84375 \nQ 40.53125 48.484375 33.40625 48.484375 \nQ 26.265625 48.484375 22.1875 42.84375 \nQ 18.109375 37.203125 18.109375 27.296875 \nQ 18.109375 17.390625 22.1875 11.75 \nQ 26.265625 6.109375 33.40625 6.109375 \nQ 40.53125 6.109375 44.609375 11.75 \nQ 48.6875 17.390625 48.6875 27.296875 \nz\n\" id=\"DejaVuSans-112\"/>\n     </defs>\n     <g transform=\"translate(207.9625 252.916563)scale(0.1 -0.1)\">\n      <use xlink:href=\"#DejaVuSans-115\"/>\n      <use x=\"52.099609\" xlink:href=\"#DejaVuSans-116\"/>\n      <use x=\"91.308594\" xlink:href=\"#DejaVuSans-101\"/>\n      <use x=\"152.832031\" xlink:href=\"#DejaVuSans-112\"/>\n     </g>\n    </g>\n   </g>\n   <g id=\"matplotlib.axis_2\">\n    <g id=\"ytick_1\">\n     <g id=\"line2d_8\">\n      <defs>\n       <path d=\"M 0 0 \nL -3.5 0 \n\" id=\"mf949805a86\" style=\"stroke:#000000;stroke-width:0.8;\"/>\n      </defs>\n      <g>\n       <use style=\"stroke:#000000;stroke-width:0.8;\" x=\"51.378125\" xlink:href=\"#mf949805a86\" y=\"190.410838\"/>\n      </g>\n     </g>\n     <g id=\"text_9\">\n      <!-- $\\mathdefault{10^{-9}}$ -->\n      <g transform=\"translate(20.878125 194.210056)scale(0.1 -0.1)\">\n       <use transform=\"translate(0 0.765625)\" xlink:href=\"#DejaVuSans-49\"/>\n       <use transform=\"translate(63.623047 0.765625)\" xlink:href=\"#DejaVuSans-48\"/>\n       <use transform=\"translate(128.203125 39.046875)scale(0.7)\" xlink:href=\"#DejaVuSans-8722\"/>\n       <use transform=\"translate(186.855469 39.046875)scale(0.7)\" xlink:href=\"#DejaVuSans-57\"/>\n      </g>\n     </g>\n    </g>\n    <g id=\"ytick_2\">\n     <g id=\"line2d_9\">\n      <g>\n       <use style=\"stroke:#000000;stroke-width:0.8;\" x=\"51.378125\" xlink:href=\"#mf949805a86\" y=\"153.233425\"/>\n      </g>\n     </g>\n     <g id=\"text_10\">\n      <!-- $\\mathdefault{10^{-7}}$ -->\n      <g transform=\"translate(20.878125 157.032644)scale(0.1 -0.1)\">\n       <use transform=\"translate(0 0.684375)\" xlink:href=\"#DejaVuSans-49\"/>\n       <use transform=\"translate(63.623047 0.684375)\" xlink:href=\"#DejaVuSans-48\"/>\n       <use transform=\"translate(128.203125 38.965625)scale(0.7)\" xlink:href=\"#DejaVuSans-8722\"/>\n       <use transform=\"translate(186.855469 38.965625)scale(0.7)\" xlink:href=\"#DejaVuSans-55\"/>\n      </g>\n     </g>\n    </g>\n    <g id=\"ytick_3\">\n     <g id=\"line2d_10\">\n      <g>\n       <use style=\"stroke:#000000;stroke-width:0.8;\" x=\"51.378125\" xlink:href=\"#mf949805a86\" y=\"116.056012\"/>\n      </g>\n     </g>\n     <g id=\"text_11\">\n      <!-- $\\mathdefault{10^{-5}}$ -->\n      <g transform=\"translate(20.878125 119.855231)scale(0.1 -0.1)\">\n       <use transform=\"translate(0 0.684375)\" xlink:href=\"#DejaVuSans-49\"/>\n       <use transform=\"translate(63.623047 0.684375)\" xlink:href=\"#DejaVuSans-48\"/>\n       <use transform=\"translate(128.203125 38.965625)scale(0.7)\" xlink:href=\"#DejaVuSans-8722\"/>\n       <use transform=\"translate(186.855469 38.965625)scale(0.7)\" xlink:href=\"#DejaVuSans-53\"/>\n      </g>\n     </g>\n    </g>\n    <g id=\"ytick_4\">\n     <g id=\"line2d_11\">\n      <g>\n       <use style=\"stroke:#000000;stroke-width:0.8;\" x=\"51.378125\" xlink:href=\"#mf949805a86\" y=\"78.8786\"/>\n      </g>\n     </g>\n     <g id=\"text_12\">\n      <!-- $\\mathdefault{10^{-3}}$ -->\n      <g transform=\"translate(20.878125 82.677819)scale(0.1 -0.1)\">\n       <use transform=\"translate(0 0.765625)\" xlink:href=\"#DejaVuSans-49\"/>\n       <use transform=\"translate(63.623047 0.765625)\" xlink:href=\"#DejaVuSans-48\"/>\n       <use transform=\"translate(128.203125 39.046875)scale(0.7)\" xlink:href=\"#DejaVuSans-8722\"/>\n       <use transform=\"translate(186.855469 39.046875)scale(0.7)\" xlink:href=\"#DejaVuSans-51\"/>\n      </g>\n     </g>\n    </g>\n    <g id=\"ytick_5\">\n     <g id=\"line2d_12\">\n      <g>\n       <use style=\"stroke:#000000;stroke-width:0.8;\" x=\"51.378125\" xlink:href=\"#mf949805a86\" y=\"41.701187\"/>\n      </g>\n     </g>\n     <g id=\"text_13\">\n      <!-- $\\mathdefault{10^{-1}}$ -->\n      <g transform=\"translate(20.878125 45.500406)scale(0.1 -0.1)\">\n       <use transform=\"translate(0 0.684375)\" xlink:href=\"#DejaVuSans-49\"/>\n       <use transform=\"translate(63.623047 0.684375)\" xlink:href=\"#DejaVuSans-48\"/>\n       <use transform=\"translate(128.203125 38.965625)scale(0.7)\" xlink:href=\"#DejaVuSans-8722\"/>\n       <use transform=\"translate(186.855469 38.965625)scale(0.7)\" xlink:href=\"#DejaVuSans-49\"/>\n      </g>\n     </g>\n    </g>\n    <g id=\"text_14\">\n     <!-- exact deriv-num. deriv -->\n     <defs>\n      <path d=\"M 54.890625 54.6875 \nL 35.109375 28.078125 \nL 55.90625 0 \nL 45.3125 0 \nL 29.390625 21.484375 \nL 13.484375 0 \nL 2.875 0 \nL 24.125 28.609375 \nL 4.6875 54.6875 \nL 15.28125 54.6875 \nL 29.78125 35.203125 \nL 44.28125 54.6875 \nz\n\" id=\"DejaVuSans-120\"/>\n      <path d=\"M 34.28125 27.484375 \nQ 23.390625 27.484375 19.1875 25 \nQ 14.984375 22.515625 14.984375 16.5 \nQ 14.984375 11.71875 18.140625 8.90625 \nQ 21.296875 6.109375 26.703125 6.109375 \nQ 34.1875 6.109375 38.703125 11.40625 \nQ 43.21875 16.703125 43.21875 25.484375 \nL 43.21875 27.484375 \nz\nM 52.203125 31.203125 \nL 52.203125 0 \nL 43.21875 0 \nL 43.21875 8.296875 \nQ 40.140625 3.328125 35.546875 0.953125 \nQ 30.953125 -1.421875 24.3125 -1.421875 \nQ 15.921875 -1.421875 10.953125 3.296875 \nQ 6 8.015625 6 15.921875 \nQ 6 25.140625 12.171875 29.828125 \nQ 18.359375 34.515625 30.609375 34.515625 \nL 43.21875 34.515625 \nL 43.21875 35.40625 \nQ 43.21875 41.609375 39.140625 45 \nQ 35.0625 48.390625 27.6875 48.390625 \nQ 23 48.390625 18.546875 47.265625 \nQ 14.109375 46.140625 10.015625 43.890625 \nL 10.015625 52.203125 \nQ 14.9375 54.109375 19.578125 55.046875 \nQ 24.21875 56 28.609375 56 \nQ 40.484375 56 46.34375 49.84375 \nQ 52.203125 43.703125 52.203125 31.203125 \nz\n\" id=\"DejaVuSans-97\"/>\n      <path d=\"M 48.78125 52.59375 \nL 48.78125 44.1875 \nQ 44.96875 46.296875 41.140625 47.34375 \nQ 37.3125 48.390625 33.40625 48.390625 \nQ 24.65625 48.390625 19.8125 42.84375 \nQ 14.984375 37.3125 14.984375 27.296875 \nQ 14.984375 17.28125 19.8125 11.734375 \nQ 24.65625 6.203125 33.40625 6.203125 \nQ 37.3125 6.203125 41.140625 7.25 \nQ 44.96875 8.296875 48.78125 10.40625 \nL 48.78125 2.09375 \nQ 45.015625 0.34375 40.984375 -0.53125 \nQ 36.96875 -1.421875 32.421875 -1.421875 \nQ 20.0625 -1.421875 12.78125 6.34375 \nQ 5.515625 14.109375 5.515625 27.296875 \nQ 5.515625 40.671875 12.859375 48.328125 \nQ 20.21875 56 33.015625 56 \nQ 37.15625 56 41.109375 55.140625 \nQ 45.0625 54.296875 48.78125 52.59375 \nz\n\" id=\"DejaVuSans-99\"/>\n      <path id=\"DejaVuSans-32\"/>\n      <path d=\"M 45.40625 46.390625 \nL 45.40625 75.984375 \nL 54.390625 75.984375 \nL 54.390625 0 \nL 45.40625 0 \nL 45.40625 8.203125 \nQ 42.578125 3.328125 38.25 0.953125 \nQ 33.9375 -1.421875 27.875 -1.421875 \nQ 17.96875 -1.421875 11.734375 6.484375 \nQ 5.515625 14.40625 5.515625 27.296875 \nQ 5.515625 40.1875 11.734375 48.09375 \nQ 17.96875 56 27.875 56 \nQ 33.9375 56 38.25 53.625 \nQ 42.578125 51.265625 45.40625 46.390625 \nz\nM 14.796875 27.296875 \nQ 14.796875 17.390625 18.875 11.75 \nQ 22.953125 6.109375 30.078125 6.109375 \nQ 37.203125 6.109375 41.296875 11.75 \nQ 45.40625 17.390625 45.40625 27.296875 \nQ 45.40625 37.203125 41.296875 42.84375 \nQ 37.203125 48.484375 30.078125 48.484375 \nQ 22.953125 48.484375 18.875 42.84375 \nQ 14.796875 37.203125 14.796875 27.296875 \nz\n\" id=\"DejaVuSans-100\"/>\n      <path d=\"M 41.109375 46.296875 \nQ 39.59375 47.171875 37.8125 47.578125 \nQ 36.03125 48 33.890625 48 \nQ 26.265625 48 22.1875 43.046875 \nQ 18.109375 38.09375 18.109375 28.8125 \nL 18.109375 0 \nL 9.078125 0 \nL 9.078125 54.6875 \nL 18.109375 54.6875 \nL 18.109375 46.1875 \nQ 20.953125 51.171875 25.484375 53.578125 \nQ 30.03125 56 36.53125 56 \nQ 37.453125 56 38.578125 55.875 \nQ 39.703125 55.765625 41.0625 55.515625 \nz\n\" id=\"DejaVuSans-114\"/>\n      <path d=\"M 9.421875 54.6875 \nL 18.40625 54.6875 \nL 18.40625 0 \nL 9.421875 0 \nz\nM 9.421875 75.984375 \nL 18.40625 75.984375 \nL 18.40625 64.59375 \nL 9.421875 64.59375 \nz\n\" id=\"DejaVuSans-105\"/>\n      <path d=\"M 2.984375 54.6875 \nL 12.5 54.6875 \nL 29.59375 8.796875 \nL 46.6875 54.6875 \nL 56.203125 54.6875 \nL 35.6875 0 \nL 23.484375 0 \nz\n\" id=\"DejaVuSans-118\"/>\n      <path d=\"M 4.890625 31.390625 \nL 31.203125 31.390625 \nL 31.203125 23.390625 \nL 4.890625 23.390625 \nz\n\" id=\"DejaVuSans-45\"/>\n      <path d=\"M 54.890625 33.015625 \nL 54.890625 0 \nL 45.90625 0 \nL 45.90625 32.71875 \nQ 45.90625 40.484375 42.875 44.328125 \nQ 39.84375 48.1875 33.796875 48.1875 \nQ 26.515625 48.1875 22.3125 43.546875 \nQ 18.109375 38.921875 18.109375 30.90625 \nL 18.109375 0 \nL 9.078125 0 \nL 9.078125 54.6875 \nL 18.109375 54.6875 \nL 18.109375 46.1875 \nQ 21.34375 51.125 25.703125 53.5625 \nQ 30.078125 56 35.796875 56 \nQ 45.21875 56 50.046875 50.171875 \nQ 54.890625 44.34375 54.890625 33.015625 \nz\n\" id=\"DejaVuSans-110\"/>\n      <path d=\"M 8.5 21.578125 \nL 8.5 54.6875 \nL 17.484375 54.6875 \nL 17.484375 21.921875 \nQ 17.484375 14.15625 20.5 10.265625 \nQ 23.53125 6.390625 29.59375 6.390625 \nQ 36.859375 6.390625 41.078125 11.03125 \nQ 45.3125 15.671875 45.3125 23.6875 \nL 45.3125 54.6875 \nL 54.296875 54.6875 \nL 54.296875 0 \nL 45.3125 0 \nL 45.3125 8.40625 \nQ 42.046875 3.421875 37.71875 1 \nQ 33.40625 -1.421875 27.6875 -1.421875 \nQ 18.265625 -1.421875 13.375 4.4375 \nQ 8.5 10.296875 8.5 21.578125 \nz\nM 31.109375 56 \nz\n\" id=\"DejaVuSans-117\"/>\n      <path d=\"M 52 44.1875 \nQ 55.375 50.25 60.0625 53.125 \nQ 64.75 56 71.09375 56 \nQ 79.640625 56 84.28125 50.015625 \nQ 88.921875 44.046875 88.921875 33.015625 \nL 88.921875 0 \nL 79.890625 0 \nL 79.890625 32.71875 \nQ 79.890625 40.578125 77.09375 44.375 \nQ 74.3125 48.1875 68.609375 48.1875 \nQ 61.625 48.1875 57.5625 43.546875 \nQ 53.515625 38.921875 53.515625 30.90625 \nL 53.515625 0 \nL 44.484375 0 \nL 44.484375 32.71875 \nQ 44.484375 40.625 41.703125 44.40625 \nQ 38.921875 48.1875 33.109375 48.1875 \nQ 26.21875 48.1875 22.15625 43.53125 \nQ 18.109375 38.875 18.109375 30.90625 \nL 18.109375 0 \nL 9.078125 0 \nL 9.078125 54.6875 \nL 18.109375 54.6875 \nL 18.109375 46.1875 \nQ 21.1875 51.21875 25.484375 53.609375 \nQ 29.78125 56 35.6875 56 \nQ 41.65625 56 45.828125 52.96875 \nQ 50 49.953125 52 44.1875 \nz\n\" id=\"DejaVuSans-109\"/>\n      <path d=\"M 10.6875 12.40625 \nL 21 12.40625 \nL 21 0 \nL 10.6875 0 \nz\n\" id=\"DejaVuSans-46\"/>\n     </defs>\n     <g transform=\"translate(14.798438 172.815313)rotate(-90)scale(0.1 -0.1)\">\n      <use xlink:href=\"#DejaVuSans-101\"/>\n      <use x=\"61.507812\" xlink:href=\"#DejaVuSans-120\"/>\n      <use x=\"120.6875\" xlink:href=\"#DejaVuSans-97\"/>\n      <use x=\"181.966797\" xlink:href=\"#DejaVuSans-99\"/>\n      <use x=\"236.947266\" xlink:href=\"#DejaVuSans-116\"/>\n      <use x=\"276.15625\" xlink:href=\"#DejaVuSans-32\"/>\n      <use x=\"307.943359\" xlink:href=\"#DejaVuSans-100\"/>\n      <use x=\"371.419922\" xlink:href=\"#DejaVuSans-101\"/>\n      <use x=\"432.943359\" xlink:href=\"#DejaVuSans-114\"/>\n      <use x=\"474.056641\" xlink:href=\"#DejaVuSans-105\"/>\n      <use x=\"501.839844\" xlink:href=\"#DejaVuSans-118\"/>\n      <use x=\"560.988281\" xlink:href=\"#DejaVuSans-45\"/>\n      <use x=\"597.072266\" xlink:href=\"#DejaVuSans-110\"/>\n      <use x=\"660.451172\" xlink:href=\"#DejaVuSans-117\"/>\n      <use x=\"723.830078\" xlink:href=\"#DejaVuSans-109\"/>\n      <use x=\"821.242188\" xlink:href=\"#DejaVuSans-46\"/>\n      <use x=\"853.029297\" xlink:href=\"#DejaVuSans-32\"/>\n      <use x=\"884.816406\" xlink:href=\"#DejaVuSans-100\"/>\n      <use x=\"948.292969\" xlink:href=\"#DejaVuSans-101\"/>\n      <use x=\"1009.816406\" xlink:href=\"#DejaVuSans-114\"/>\n      <use x=\"1050.929688\" xlink:href=\"#DejaVuSans-105\"/>\n      <use x=\"1078.712891\" xlink:href=\"#DejaVuSans-118\"/>\n     </g>\n    </g>\n   </g>\n   <g id=\"line2d_13\">\n    <path clip-path=\"url(#pf37e51affc)\" d=\"M 370.959943 100.800827 \nL 349.219683 137.924076 \nL 327.479424 175.095912 \nL 305.739164 214.756364 \nL 283.998904 203.651524 \nL 262.258644 186.155232 \nL 240.518385 167.453495 \nL 218.778125 147.893445 \nL 197.037865 154.762951 \nL 175.297606 154.762951 \nL 153.557346 91.874661 \nL 131.817086 73.656663 \nL 110.076826 80.687322 \nL 88.336567 35.290424 \nL 66.596307 17.083636 \n\" style=\"fill:none;stroke:#1f77b4;stroke-linecap:square;stroke-opacity:0.6;stroke-width:1.5;\"/>\n    <defs>\n     <path d=\"M 0 -3 \nL -0.673542 -0.927051 \nL -2.85317 -0.927051 \nL -1.089814 0.354102 \nL -1.763356 2.427051 \nL -0 1.145898 \nL 1.763356 2.427051 \nL 1.089814 0.354102 \nL 2.85317 -0.927051 \nL 0.673542 -0.927051 \nz\n\" id=\"mc1f51664b6\" style=\"stroke:#1f77b4;stroke-linejoin:bevel;stroke-opacity:0.6;\"/>\n    </defs>\n    <g clip-path=\"url(#pf37e51affc)\">\n     <use style=\"fill:#1f77b4;fill-opacity:0.6;stroke:#1f77b4;stroke-linejoin:bevel;stroke-opacity:0.6;\" x=\"370.959943\" xlink:href=\"#mc1f51664b6\" y=\"100.800827\"/>\n     <use style=\"fill:#1f77b4;fill-opacity:0.6;stroke:#1f77b4;stroke-linejoin:bevel;stroke-opacity:0.6;\" x=\"349.219683\" xlink:href=\"#mc1f51664b6\" y=\"137.924076\"/>\n     <use style=\"fill:#1f77b4;fill-opacity:0.6;stroke:#1f77b4;stroke-linejoin:bevel;stroke-opacity:0.6;\" x=\"327.479424\" xlink:href=\"#mc1f51664b6\" y=\"175.095912\"/>\n     <use style=\"fill:#1f77b4;fill-opacity:0.6;stroke:#1f77b4;stroke-linejoin:bevel;stroke-opacity:0.6;\" x=\"305.739164\" xlink:href=\"#mc1f51664b6\" y=\"214.756364\"/>\n     <use style=\"fill:#1f77b4;fill-opacity:0.6;stroke:#1f77b4;stroke-linejoin:bevel;stroke-opacity:0.6;\" x=\"283.998904\" xlink:href=\"#mc1f51664b6\" y=\"203.651524\"/>\n     <use style=\"fill:#1f77b4;fill-opacity:0.6;stroke:#1f77b4;stroke-linejoin:bevel;stroke-opacity:0.6;\" x=\"262.258644\" xlink:href=\"#mc1f51664b6\" y=\"186.155232\"/>\n     <use style=\"fill:#1f77b4;fill-opacity:0.6;stroke:#1f77b4;stroke-linejoin:bevel;stroke-opacity:0.6;\" x=\"240.518385\" xlink:href=\"#mc1f51664b6\" y=\"167.453495\"/>\n     <use style=\"fill:#1f77b4;fill-opacity:0.6;stroke:#1f77b4;stroke-linejoin:bevel;stroke-opacity:0.6;\" x=\"218.778125\" xlink:href=\"#mc1f51664b6\" y=\"147.893445\"/>\n     <use style=\"fill:#1f77b4;fill-opacity:0.6;stroke:#1f77b4;stroke-linejoin:bevel;stroke-opacity:0.6;\" x=\"197.037865\" xlink:href=\"#mc1f51664b6\" y=\"154.762951\"/>\n     <use style=\"fill:#1f77b4;fill-opacity:0.6;stroke:#1f77b4;stroke-linejoin:bevel;stroke-opacity:0.6;\" x=\"175.297606\" xlink:href=\"#mc1f51664b6\" y=\"154.762951\"/>\n     <use style=\"fill:#1f77b4;fill-opacity:0.6;stroke:#1f77b4;stroke-linejoin:bevel;stroke-opacity:0.6;\" x=\"153.557346\" xlink:href=\"#mc1f51664b6\" y=\"91.874661\"/>\n     <use style=\"fill:#1f77b4;fill-opacity:0.6;stroke:#1f77b4;stroke-linejoin:bevel;stroke-opacity:0.6;\" x=\"131.817086\" xlink:href=\"#mc1f51664b6\" y=\"73.656663\"/>\n     <use style=\"fill:#1f77b4;fill-opacity:0.6;stroke:#1f77b4;stroke-linejoin:bevel;stroke-opacity:0.6;\" x=\"110.076826\" xlink:href=\"#mc1f51664b6\" y=\"80.687322\"/>\n     <use style=\"fill:#1f77b4;fill-opacity:0.6;stroke:#1f77b4;stroke-linejoin:bevel;stroke-opacity:0.6;\" x=\"88.336567\" xlink:href=\"#mc1f51664b6\" y=\"35.290424\"/>\n     <use style=\"fill:#1f77b4;fill-opacity:0.6;stroke:#1f77b4;stroke-linejoin:bevel;stroke-opacity:0.6;\" x=\"66.596307\" xlink:href=\"#mc1f51664b6\" y=\"17.083636\"/>\n    </g>\n   </g>\n   <g id=\"line2d_14\">\n    <path clip-path=\"url(#pf37e51affc)\" d=\"M 370.959943 56.998709 \nL 349.219683 75.603498 \nL 327.479424 94.193818 \nL 305.739164 112.782682 \nL 283.998904 131.371851 \nL 262.258644 149.928754 \nL 240.518385 172.742496 \nL 218.778125 154.617907 \nL 197.037865 154.748329 \nL 175.297606 154.761488 \nL 153.557346 98.417103 \nL 131.817086 80.687322 \nL 110.076826 80.687322 \nL 88.336567 40.915399 \nL 66.596307 23.112481 \n\" style=\"fill:none;stroke:#ff7f0e;stroke-linecap:square;stroke-opacity:0.6;stroke-width:1.5;\"/>\n    <defs>\n     <path d=\"M 0 3 \nC 0.795609 3 1.55874 2.683901 2.12132 2.12132 \nC 2.683901 1.55874 3 0.795609 3 0 \nC 3 -0.795609 2.683901 -1.55874 2.12132 -2.12132 \nC 1.55874 -2.683901 0.795609 -3 0 -3 \nC -0.795609 -3 -1.55874 -2.683901 -2.12132 -2.12132 \nC -2.683901 -1.55874 -3 -0.795609 -3 0 \nC -3 0.795609 -2.683901 1.55874 -2.12132 2.12132 \nC -1.55874 2.683901 -0.795609 3 0 3 \nz\n\" id=\"mf7231b3f99\" style=\"stroke:#ff7f0e;stroke-opacity:0.6;\"/>\n    </defs>\n    <g clip-path=\"url(#pf37e51affc)\">\n     <use style=\"fill:#ff7f0e;fill-opacity:0.6;stroke:#ff7f0e;stroke-opacity:0.6;\" x=\"370.959943\" xlink:href=\"#mf7231b3f99\" y=\"56.998709\"/>\n     <use style=\"fill:#ff7f0e;fill-opacity:0.6;stroke:#ff7f0e;stroke-opacity:0.6;\" x=\"349.219683\" xlink:href=\"#mf7231b3f99\" y=\"75.603498\"/>\n     <use style=\"fill:#ff7f0e;fill-opacity:0.6;stroke:#ff7f0e;stroke-opacity:0.6;\" x=\"327.479424\" xlink:href=\"#mf7231b3f99\" y=\"94.193818\"/>\n     <use style=\"fill:#ff7f0e;fill-opacity:0.6;stroke:#ff7f0e;stroke-opacity:0.6;\" x=\"305.739164\" xlink:href=\"#mf7231b3f99\" y=\"112.782682\"/>\n     <use style=\"fill:#ff7f0e;fill-opacity:0.6;stroke:#ff7f0e;stroke-opacity:0.6;\" x=\"283.998904\" xlink:href=\"#mf7231b3f99\" y=\"131.371851\"/>\n     <use style=\"fill:#ff7f0e;fill-opacity:0.6;stroke:#ff7f0e;stroke-opacity:0.6;\" x=\"262.258644\" xlink:href=\"#mf7231b3f99\" y=\"149.928754\"/>\n     <use style=\"fill:#ff7f0e;fill-opacity:0.6;stroke:#ff7f0e;stroke-opacity:0.6;\" x=\"240.518385\" xlink:href=\"#mf7231b3f99\" y=\"172.742496\"/>\n     <use style=\"fill:#ff7f0e;fill-opacity:0.6;stroke:#ff7f0e;stroke-opacity:0.6;\" x=\"218.778125\" xlink:href=\"#mf7231b3f99\" y=\"154.617907\"/>\n     <use style=\"fill:#ff7f0e;fill-opacity:0.6;stroke:#ff7f0e;stroke-opacity:0.6;\" x=\"197.037865\" xlink:href=\"#mf7231b3f99\" y=\"154.748329\"/>\n     <use style=\"fill:#ff7f0e;fill-opacity:0.6;stroke:#ff7f0e;stroke-opacity:0.6;\" x=\"175.297606\" xlink:href=\"#mf7231b3f99\" y=\"154.761488\"/>\n     <use style=\"fill:#ff7f0e;fill-opacity:0.6;stroke:#ff7f0e;stroke-opacity:0.6;\" x=\"153.557346\" xlink:href=\"#mf7231b3f99\" y=\"98.417103\"/>\n     <use style=\"fill:#ff7f0e;fill-opacity:0.6;stroke:#ff7f0e;stroke-opacity:0.6;\" x=\"131.817086\" xlink:href=\"#mf7231b3f99\" y=\"80.687322\"/>\n     <use style=\"fill:#ff7f0e;fill-opacity:0.6;stroke:#ff7f0e;stroke-opacity:0.6;\" x=\"110.076826\" xlink:href=\"#mf7231b3f99\" y=\"80.687322\"/>\n     <use style=\"fill:#ff7f0e;fill-opacity:0.6;stroke:#ff7f0e;stroke-opacity:0.6;\" x=\"88.336567\" xlink:href=\"#mf7231b3f99\" y=\"40.915399\"/>\n     <use style=\"fill:#ff7f0e;fill-opacity:0.6;stroke:#ff7f0e;stroke-opacity:0.6;\" x=\"66.596307\" xlink:href=\"#mf7231b3f99\" y=\"23.112481\"/>\n    </g>\n   </g>\n   <g id=\"patch_3\">\n    <path d=\"M 51.378125 224.64 \nL 51.378125 7.2 \n\" style=\"fill:none;stroke:#000000;stroke-linecap:square;stroke-linejoin:miter;stroke-width:0.8;\"/>\n   </g>\n   <g id=\"patch_4\">\n    <path d=\"M 386.178125 224.64 \nL 386.178125 7.2 \n\" style=\"fill:none;stroke:#000000;stroke-linecap:square;stroke-linejoin:miter;stroke-width:0.8;\"/>\n   </g>\n   <g id=\"patch_5\">\n    <path d=\"M 51.378125 224.64 \nL 386.178125 224.64 \n\" style=\"fill:none;stroke:#000000;stroke-linecap:square;stroke-linejoin:miter;stroke-width:0.8;\"/>\n   </g>\n   <g id=\"patch_6\">\n    <path d=\"M 51.378125 7.2 \nL 386.178125 7.2 \n\" style=\"fill:none;stroke:#000000;stroke-linecap:square;stroke-linejoin:miter;stroke-width:0.8;\"/>\n   </g>\n   <g id=\"legend_1\">\n    <g id=\"patch_7\">\n     <path d=\"M 247.578125 46.078125 \nL 379.178125 46.078125 \nQ 381.178125 46.078125 381.178125 44.078125 \nL 381.178125 14.2 \nQ 381.178125 12.2 379.178125 12.2 \nL 247.578125 12.2 \nQ 245.578125 12.2 245.578125 14.2 \nL 245.578125 44.078125 \nQ 245.578125 46.078125 247.578125 46.078125 \nz\n\" style=\"fill:#ffffff;opacity:0.8;stroke:#cccccc;stroke-linejoin:miter;\"/>\n    </g>\n    <g id=\"line2d_15\">\n     <path d=\"M 249.578125 21.8 \nL 269.578125 21.8 \n\" style=\"fill:none;stroke:#1f77b4;stroke-linecap:square;stroke-opacity:0.6;stroke-width:1.5;\"/>\n    </g>\n    <g id=\"line2d_16\">\n     <g>\n      <use style=\"fill:#1f77b4;fill-opacity:0.6;stroke:#1f77b4;stroke-linejoin:bevel;stroke-opacity:0.6;\" x=\"259.578125\" xlink:href=\"#mc1f51664b6\" y=\"21.8\"/>\n     </g>\n    </g>\n    <g id=\"text_15\">\n     <!-- O($h^2$), one-side, 3pt -->\n     <defs>\n      <path d=\"M 39.40625 66.21875 \nQ 28.65625 66.21875 22.328125 58.203125 \nQ 16.015625 50.203125 16.015625 36.375 \nQ 16.015625 22.609375 22.328125 14.59375 \nQ 28.65625 6.59375 39.40625 6.59375 \nQ 50.140625 6.59375 56.421875 14.59375 \nQ 62.703125 22.609375 62.703125 36.375 \nQ 62.703125 50.203125 56.421875 58.203125 \nQ 50.140625 66.21875 39.40625 66.21875 \nz\nM 39.40625 74.21875 \nQ 54.734375 74.21875 63.90625 63.9375 \nQ 73.09375 53.65625 73.09375 36.375 \nQ 73.09375 19.140625 63.90625 8.859375 \nQ 54.734375 -1.421875 39.40625 -1.421875 \nQ 24.03125 -1.421875 14.8125 8.828125 \nQ 5.609375 19.09375 5.609375 36.375 \nQ 5.609375 53.65625 14.8125 63.9375 \nQ 24.03125 74.21875 39.40625 74.21875 \nz\n\" id=\"DejaVuSans-79\"/>\n      <path d=\"M 31 75.875 \nQ 24.46875 64.65625 21.28125 53.65625 \nQ 18.109375 42.671875 18.109375 31.390625 \nQ 18.109375 20.125 21.3125 9.0625 \nQ 24.515625 -2 31 -13.1875 \nL 23.1875 -13.1875 \nQ 15.875 -1.703125 12.234375 9.375 \nQ 8.59375 20.453125 8.59375 31.390625 \nQ 8.59375 42.28125 12.203125 53.3125 \nQ 15.828125 64.359375 23.1875 75.875 \nz\n\" id=\"DejaVuSans-40\"/>\n      <path d=\"M 55.71875 33.015625 \nL 49.3125 0 \nL 40.28125 0 \nL 46.6875 32.671875 \nQ 47.125 34.96875 47.359375 36.71875 \nQ 47.609375 38.484375 47.609375 39.5 \nQ 47.609375 43.609375 45.015625 45.890625 \nQ 42.4375 48.1875 37.796875 48.1875 \nQ 30.5625 48.1875 25.265625 43.296875 \nQ 19.96875 38.421875 18.40625 30.328125 \nL 12.5 0 \nL 3.515625 0 \nL 18.3125 75.984375 \nL 27.296875 75.984375 \nL 21.484375 46.09375 \nQ 24.90625 50.6875 30.21875 53.34375 \nQ 35.546875 56 41.40625 56 \nQ 48.640625 56 52.609375 52.09375 \nQ 56.59375 48.1875 56.59375 41.109375 \nQ 56.59375 39.359375 56.375 37.359375 \nQ 56.15625 35.359375 55.71875 33.015625 \nz\n\" id=\"DejaVuSans-Oblique-104\"/>\n      <path d=\"M 19.1875 8.296875 \nL 53.609375 8.296875 \nL 53.609375 0 \nL 7.328125 0 \nL 7.328125 8.296875 \nQ 12.9375 14.109375 22.625 23.890625 \nQ 32.328125 33.6875 34.8125 36.53125 \nQ 39.546875 41.84375 41.421875 45.53125 \nQ 43.3125 49.21875 43.3125 52.78125 \nQ 43.3125 58.59375 39.234375 62.25 \nQ 35.15625 65.921875 28.609375 65.921875 \nQ 23.96875 65.921875 18.8125 64.3125 \nQ 13.671875 62.703125 7.8125 59.421875 \nL 7.8125 69.390625 \nQ 13.765625 71.78125 18.9375 73 \nQ 24.125 74.21875 28.421875 74.21875 \nQ 39.75 74.21875 46.484375 68.546875 \nQ 53.21875 62.890625 53.21875 53.421875 \nQ 53.21875 48.921875 51.53125 44.890625 \nQ 49.859375 40.875 45.40625 35.40625 \nQ 44.1875 33.984375 37.640625 27.21875 \nQ 31.109375 20.453125 19.1875 8.296875 \nz\n\" id=\"DejaVuSans-50\"/>\n      <path d=\"M 8.015625 75.875 \nL 15.828125 75.875 \nQ 23.140625 64.359375 26.78125 53.3125 \nQ 30.421875 42.28125 30.421875 31.390625 \nQ 30.421875 20.453125 26.78125 9.375 \nQ 23.140625 -1.703125 15.828125 -13.1875 \nL 8.015625 -13.1875 \nQ 14.5 -2 17.703125 9.0625 \nQ 20.90625 20.125 20.90625 31.390625 \nQ 20.90625 42.671875 17.703125 53.65625 \nQ 14.5 64.65625 8.015625 75.875 \nz\n\" id=\"DejaVuSans-41\"/>\n      <path d=\"M 11.71875 12.40625 \nL 22.015625 12.40625 \nL 22.015625 4 \nL 14.015625 -11.625 \nL 7.71875 -11.625 \nL 11.71875 4 \nz\n\" id=\"DejaVuSans-44\"/>\n      <path d=\"M 30.609375 48.390625 \nQ 23.390625 48.390625 19.1875 42.75 \nQ 14.984375 37.109375 14.984375 27.296875 \nQ 14.984375 17.484375 19.15625 11.84375 \nQ 23.34375 6.203125 30.609375 6.203125 \nQ 37.796875 6.203125 41.984375 11.859375 \nQ 46.1875 17.53125 46.1875 27.296875 \nQ 46.1875 37.015625 41.984375 42.703125 \nQ 37.796875 48.390625 30.609375 48.390625 \nz\nM 30.609375 56 \nQ 42.328125 56 49.015625 48.375 \nQ 55.71875 40.765625 55.71875 27.296875 \nQ 55.71875 13.875 49.015625 6.21875 \nQ 42.328125 -1.421875 30.609375 -1.421875 \nQ 18.84375 -1.421875 12.171875 6.21875 \nQ 5.515625 13.875 5.515625 27.296875 \nQ 5.515625 40.765625 12.171875 48.375 \nQ 18.84375 56 30.609375 56 \nz\n\" id=\"DejaVuSans-111\"/>\n     </defs>\n     <g transform=\"translate(277.578125 25.3)scale(0.1 -0.1)\">\n      <use transform=\"translate(0 0.765625)\" xlink:href=\"#DejaVuSans-79\"/>\n      <use transform=\"translate(78.710938 0.765625)\" xlink:href=\"#DejaVuSans-40\"/>\n      <use transform=\"translate(117.724609 0.765625)\" xlink:href=\"#DejaVuSans-Oblique-104\"/>\n      <use transform=\"translate(188.551224 39.046875)scale(0.7)\" xlink:href=\"#DejaVuSans-50\"/>\n      <use transform=\"translate(235.821732 0.765625)\" xlink:href=\"#DejaVuSans-41\"/>\n      <use transform=\"translate(274.835404 0.765625)\" xlink:href=\"#DejaVuSans-44\"/>\n      <use transform=\"translate(306.622513 0.765625)\" xlink:href=\"#DejaVuSans-32\"/>\n      <use transform=\"translate(338.409622 0.765625)\" xlink:href=\"#DejaVuSans-111\"/>\n      <use transform=\"translate(399.591263 0.765625)\" xlink:href=\"#DejaVuSans-110\"/>\n      <use transform=\"translate(462.970169 0.765625)\" xlink:href=\"#DejaVuSans-101\"/>\n      <use transform=\"translate(524.493607 0.765625)\" xlink:href=\"#DejaVuSans-45\"/>\n      <use transform=\"translate(560.577591 0.765625)\" xlink:href=\"#DejaVuSans-115\"/>\n      <use transform=\"translate(612.677201 0.765625)\" xlink:href=\"#DejaVuSans-105\"/>\n      <use transform=\"translate(640.460404 0.765625)\" xlink:href=\"#DejaVuSans-100\"/>\n      <use transform=\"translate(703.936966 0.765625)\" xlink:href=\"#DejaVuSans-101\"/>\n      <use transform=\"translate(765.460404 0.765625)\" xlink:href=\"#DejaVuSans-44\"/>\n      <use transform=\"translate(797.247513 0.765625)\" xlink:href=\"#DejaVuSans-32\"/>\n      <use transform=\"translate(829.034622 0.765625)\" xlink:href=\"#DejaVuSans-51\"/>\n      <use transform=\"translate(892.657669 0.765625)\" xlink:href=\"#DejaVuSans-112\"/>\n      <use transform=\"translate(956.134232 0.765625)\" xlink:href=\"#DejaVuSans-116\"/>\n     </g>\n    </g>\n    <g id=\"line2d_17\">\n     <path d=\"M 249.578125 36.498438 \nL 269.578125 36.498438 \n\" style=\"fill:none;stroke:#ff7f0e;stroke-linecap:square;stroke-opacity:0.6;stroke-width:1.5;\"/>\n    </g>\n    <g id=\"line2d_18\">\n     <g>\n      <use style=\"fill:#ff7f0e;fill-opacity:0.6;stroke:#ff7f0e;stroke-opacity:0.6;\" x=\"259.578125\" xlink:href=\"#mf7231b3f99\" y=\"36.498438\"/>\n     </g>\n    </g>\n    <g id=\"text_16\">\n     <!-- one-side, 2pt -->\n     <g transform=\"translate(277.578125 39.998438)scale(0.1 -0.1)\">\n      <use xlink:href=\"#DejaVuSans-111\"/>\n      <use x=\"61.181641\" xlink:href=\"#DejaVuSans-110\"/>\n      <use x=\"124.560547\" xlink:href=\"#DejaVuSans-101\"/>\n      <use x=\"186.083984\" xlink:href=\"#DejaVuSans-45\"/>\n      <use x=\"222.167969\" xlink:href=\"#DejaVuSans-115\"/>\n      <use x=\"274.267578\" xlink:href=\"#DejaVuSans-105\"/>\n      <use x=\"302.050781\" xlink:href=\"#DejaVuSans-100\"/>\n      <use x=\"365.527344\" xlink:href=\"#DejaVuSans-101\"/>\n      <use x=\"427.050781\" xlink:href=\"#DejaVuSans-44\"/>\n      <use x=\"458.837891\" xlink:href=\"#DejaVuSans-32\"/>\n      <use x=\"490.625\" xlink:href=\"#DejaVuSans-50\"/>\n      <use x=\"554.248047\" xlink:href=\"#DejaVuSans-112\"/>\n      <use x=\"617.724609\" xlink:href=\"#DejaVuSans-116\"/>\n     </g>\n    </g>\n   </g>\n  </g>\n </g>\n <defs>\n  <clipPath id=\"pf37e51affc\">\n   <rect height=\"217.44\" width=\"334.8\" x=\"51.378125\" y=\"7.2\"/>\n  </clipPath>\n </defs>\n</svg>\n",
      "text/plain": "<Figure size 432x288 with 1 Axes>"
     },
     "metadata": {
      "needs_background": "light"
     },
     "output_type": "display_data"
    }
   ],
   "source": [
    "# ... ENTER YOUR CODE HERE ...\n",
    "import matplotlib.pyplot as plt\n",
    "import numpy as np\n",
    "\n",
    "\n",
    "def deriv_2points(f,x,h):\n",
    "    return (f(x+h)-f(x))/h\n",
    "\n",
    "h = np.array([1e-2, 1e-3, 1e-4, 1e-5, 1e-6, 1e-7, 1e-8, 1e-9, 1e-10,1e-11,1e-12,1e-13,1e-14,1e-15,1e-16])\n",
    "deriv3 = np.empty_like(h)\n",
    "deriv2 = np.empty_like(h)\n",
    "for i in range(h.shape[0]):\n",
    "    deriv3[i] = deriv(f,1.,h[i])\n",
    "    deriv2[i] = deriv_2points(f, 1.,h[i])\n",
    "plt.plot(h,abs(deriv3-fder(1.)),\"-*\", label=\"O($h^2$), one-side, 3pt\",alpha=0.6 )\n",
    "plt.plot(h,abs(deriv2-fder(1.)), \"o-\", label=\"one-side, 2pt\", alpha=0.6)\n",
    "plt.xlabel(\"step\")\n",
    "plt.xscale(\"log\")\n",
    "plt.yscale(\"log\")\n",
    "plt.ylabel(\"exact deriv-num. deriv\")\n",
    "plt.legend()\n",
    "plt.plot()"
   ]
  },
  {
   "cell_type": "markdown",
   "metadata": {},
   "source": [
    "### Test I.3 \n",
    "\n",
    "Now try differentiating $x^2 \\log(x)$ at $x=0$. Use the three-point one-sided rule. Note that to evaluate the function at zero, you need to special-case this value. Check the scaling of the error with $h$, explain your results. \n",
    "(25% of the total grade)"
   ]
  },
  {
   "cell_type": "code",
   "execution_count": 6,
   "metadata": {},
   "outputs": [
    {
     "name": "stdout",
     "output_type": "stream",
     "text": "0.010000 -- -0.01386\n0.001000 -- -0.001386\n0.000100 -- -0.0001386\n0.000010 -- -1.386e-05\n"
    }
   ],
   "source": [
    "def f(x):\n",
    "    if x == 0:\n",
    "        # the limit of $x^2 log(x)$ at $x-> 0$ is zero, even though log(x) is undefined at x=0\n",
    "        return 0.0\n",
    "    else:\n",
    "        return x**2 * log(x)\n",
    "    \n",
    "def fder(x):\n",
    "    if x == 0:\n",
    "        return 0.0\n",
    "    else:\n",
    "        return x*(2*log(x) + 1)\n",
    "\n",
    "x = 0\n",
    "for h in [1e-2, 1e-3, 1e-4, 1e-5]:\n",
    "    err = deriv(f, x, h) - fder(x)\n",
    "    print(\"%5f -- %7.4g\" % (h, err))"
   ]
  },
  {
   "cell_type": "markdown",
   "metadata": {},
   "source": [
    "... ENTER YOUR EXPLANATION HERE ...\n",
    "\n",
    "Заметим, что сходимость теперь линейная, что в принципе разумно, так как у нас остаточный член получается из третьей производной, которая пропорциональная $\\frac{1}{x}$. Соответственно эта штука идёт к нулю не как $\\varepsilon^2$, а как $\\varepsilon$"
   ]
  },
  {
   "cell_type": "markdown",
   "metadata": {},
   "source": [
    "# Part II. Midpoint rule "
   ]
  },
  {
   "cell_type": "markdown",
   "metadata": {},
   "source": [
    "Write a function which computes a definite integral using the midpoint rule up to a given error, $\\epsilon$. Estimate the error by comparing the estimates of the integral at $N$ and $2N$ elementary intervals. "
   ]
  },
  {
   "cell_type": "code",
   "execution_count": 34,
   "metadata": {},
   "outputs": [],
   "source": [
    "def midpoint_rule(func, a, b, eps):\n",
    "    \"\"\" Calculate the integral of f from a to b using the midpoint rule.\n",
    "    \n",
    "    Parameters\n",
    "    ----------\n",
    "    func : callable\n",
    "        The function to integrate.\n",
    "    a : float\n",
    "        The lower limit of integration.\n",
    "    b : float\n",
    "        The upper limit of integration.\n",
    "    eps : float\n",
    "        The target accuracy of the estimate.\n",
    "        \n",
    "    Returns\n",
    "    -------\n",
    "    integral : float\n",
    "        The estimate of $\\int_a^b f(x) dx$.\n",
    "    \"\"\"\n",
    "    # ... ENTER YOUR CODE HERE ...\n",
    "    i = 2\n",
    "    Q_prev = func(a/2+b/2)*(b-a)\n",
    "    while True:\n",
    "        dots = np.linspace(a,b,2*i)\n",
    "        points = (dots[1:]+dots[:-1])/2\n",
    "        h = dots[1]-dots[0]\n",
    "        Q_curr = h*np.sum(func(points))\n",
    "        if abs(Q_curr-Q_prev)<eps:\n",
    "            return Q_curr\n",
    "        Q_prev = Q_curr\n",
    "        i +=1\n",
    "\n",
    "\n",
    "def midpoint_rule_tests(func, a, b, eps):\n",
    "    \"\"\" Calculate the integral of f from a to b using the midpoint rule.\n",
    "    \n",
    "    Parameters\n",
    "    ----------\n",
    "    func : callable\n",
    "        The function to integrate.\n",
    "    a : float\n",
    "        The lower limit of integration.\n",
    "    b : float\n",
    "        The upper limit of integration.\n",
    "    eps : float\n",
    "        The target accuracy of the estimate.\n",
    "        \n",
    "    Returns\n",
    "    -------\n",
    "    integral : float\n",
    "        The estimate of $\\int_a^b f(x) dx$.\n",
    "    niter : int\n",
    "        number of iterations\n",
    "    \"\"\"\n",
    "    # ... ENTER YOUR CODE HERE ...\n",
    "    i = 2\n",
    "    Q_prev = func(a/2+b/2)*(b-a)\n",
    "    while True:\n",
    "        dots = np.linspace(a,b,2*i)\n",
    "        points = (dots[1:]+dots[:-1])/2\n",
    "        h = dots[1]-dots[0]\n",
    "        Q_curr = h*np.sum(func(points))\n",
    "        if abs(Q_curr-Q_prev)<eps:\n",
    "            return [Q_curr, i]\n",
    "        Q_prev = Q_curr\n",
    "        i +=1\n",
    "\n",
    "\n",
    "def _midpoint_rule_tests(func, a, b, eps):\n",
    "     i = 2\n",
    "     Q_prev = func(a/2+b/2)*(b-a)\n",
    "     q_ar = np.array([Q_prev])\n",
    "     ndots = np.array([1.])\n",
    "     while True:\n",
    "        dots = np.linspace(a,b,2*i)\n",
    "        points = (dots[1:]+dots[:-1])/2\n",
    "        h = dots[1]-dots[0]\n",
    "        Q_curr = h*np.sum(func(points))\n",
    "        ndots = np.append(ndots, dots.shape[0])\n",
    "        if abs(Q_curr-Q_prev)<eps:\n",
    "            return q_ar, ndots\n",
    "        Q_prev = Q_curr\n",
    "        q_ar = np.append(q_ar,Q_prev)\n",
    "        i +=1\n"
   ]
  },
  {
   "cell_type": "markdown",
   "metadata": {},
   "source": [
    "### Test II.1\n",
    "\n",
    "Test your midpoint rule on a simple integral, which you can calculate by paper and pencil.\n",
    "\n",
    "Compare the rate of convergence to the expected $O(N^{-2})$ scaling by studying the number of intervals required for a given accuracy $\\epsilon$.\n",
    "\n",
    "Compare the numerical results to the value you calculated by hand. Does the deviation agree with your estimate of the numerical error?\n",
    "(20% of the total grade)\n"
   ]
  },
  {
   "cell_type": "code",
   "execution_count": 57,
   "metadata": {},
   "outputs": [
    {
     "name": "stdout",
     "output_type": "stream",
     "text": "integral = -0.060359, h^2 = 1.000000 , power = nan\nintegral = 0.001828, h^2 = 0.062500 , power = -0.089481\nintegral = 0.000526, h^2 = 0.027778 , power = 0.575573\nintegral = 0.000217, h^2 = 0.015625 , power = 0.998371\nintegral = 0.000110, h^2 = 0.010000 , power = 1.301178\nintegral = 0.000063, h^2 = 0.006944 , power = 1.536025\nintegral = 0.000040, h^2 = 0.005102 , power = 1.727410\nintegral = 0.000027, h^2 = 0.003906 , power = 1.888714\nintegral = 0.000019, h^2 = 0.003086 , power = 2.028007\nintegral = 0.000014, h^2 = 0.002500 , power = 2.150518\nintegral = 0.000010, h^2 = 0.002066 , power = 2.259822\nintegral = 0.000008, h^2 = 0.001736 , power = 2.358470\nintegral = 0.000006, h^2 = 0.001479 , power = 2.448340\nintegral = 0.000005, h^2 = 0.001276 , power = 2.530858\nintegral = 0.000004, h^2 = 0.001111 , power = 2.607130\nintegral = 0.000003, h^2 = 0.000977 , power = 2.678030\nintegral = 0.000003, h^2 = 0.000865 , power = 2.744261\nintegral = 0.000002, h^2 = 0.000772 , power = 2.806399\nintegral = 0.000002, h^2 = 0.000693 , power = 2.864917\nintegral = 0.000002, h^2 = 0.000625 , power = 2.920214\nintegral = 0.000001, h^2 = 0.000567 , power = 2.972624\nintegral = 0.000001, h^2 = 0.000517 , power = 3.022432\nintegral = 0.000001, h^2 = 0.000473 , power = 3.069885\n_______________________ FOR SINE _____________________\nintegral = 1.047198, h^2 = 1.000000 , power = -2.819325\nintegral = 0.061114, h^2 = 0.062500 , power = -0.139768\nintegral = 0.016397, h^2 = 0.027778 , power = 0.567275\nintegral = 0.006694, h^2 = 0.015625 , power = 0.994981\nintegral = 0.003377, h^2 = 0.010000 , power = 1.299464\nintegral = 0.001938, h^2 = 0.006944 , power = 1.535040\nintegral = 0.001215, h^2 = 0.005102 , power = 1.726793\nintegral = 0.000811, h^2 = 0.003906 , power = 1.888301\nintegral = 0.000569, h^2 = 0.003086 , power = 2.027717\nintegral = 0.000414, h^2 = 0.002500 , power = 2.150307\nintegral = 0.000311, h^2 = 0.002066 , power = 2.259664\nintegral = 0.000239, h^2 = 0.001736 , power = 2.358348\nintegral = 0.000188, h^2 = 0.001479 , power = 2.448244\nintegral = 0.000150, h^2 = 0.001276 , power = 2.530782\nintegral = 0.000122, h^2 = 0.001111 , power = 2.607068\nintegral = 0.000101, h^2 = 0.000977 , power = 2.677978\nintegral = 0.000084, h^2 = 0.000865 , power = 2.744218\nintegral = 0.000071, h^2 = 0.000772 , power = 2.806363\nintegral = 0.000060, h^2 = 0.000693 , power = 2.864887\nintegral = 0.000051, h^2 = 0.000625 , power = 2.920188\nintegral = 0.000044, h^2 = 0.000567 , power = 2.972601\nintegral = 0.000039, h^2 = 0.000517 , power = 3.022412\nintegral = 0.000034, h^2 = 0.000473 , power = 3.069867\n"
    }
   ],
   "source": [
    "q, dots = _midpoint_rule_tests(lambda x: 1/(1+x**2),0,3**0.5,1e-6)\n",
    "for i in range(q.shape[0]-1):\n",
    "    print(\"integral = {:6f}, h^2 = {:6f} , power = {:1f}\".format(q[i]-q[i+1],1/dots[i]**2,np.log((np.pi/3-q[i+1])/(np.pi/3-q[i])/np.log(dots[i+1]/dots[i]))))\n",
    "\n",
    "print(\"_______________________ FOR SINE _____________________\")\n",
    "\n",
    "q1, dots1 = _midpoint_rule_tests(lambda x: np.sin(x),0,np.pi,1e-6)\n",
    "for i in range(q.shape[0]-1):\n",
    "    print(\"integral = {:6f}, h^2 = {:6f} , power = {:1f}\".format(q1[i]-q1[i+1],1/dots1[i]**2,np.log((2-q1[i+1])/(2-q1[i])/np.log(dots1[i+1]/dots1[i]))))"
   ]
  },
  {
   "cell_type": "markdown",
   "metadata": {},
   "source": [
    "... ENTER YOUR CODE AND COMMENTS HERE ...\n",
    "\n",
    "Отклонения не сходятся с реальными вычислениями, потому что условие выхода в принципе довольно необоснованное и эвристическое и даёт просто хоть какое-то условие, фактчиески -- тот момент, когда замедляется сходимость\n",
    "\n",
    "Так ещё заметим, например, что скорость сходимости для арктенгенса чуть выше второй степени. "
   ]
  },
  {
   "cell_type": "code",
   "execution_count": 16,
   "metadata": {},
   "outputs": [
    {
     "name": "stdout",
     "output_type": "stream",
     "text": "Exact = 0, midpoint = -1.3010426069826053e-18, res = 1.3010426069826053e-18, niter = 2\nExact = -62.037496467329, midpoint = -62.03752787428657, res = 3.140695756798095e-05, niter = 67\nExact = 1.0471975511965976, midpoint = 1.047208822256348, res = 1.127105975040621e-05, niter = 25\n"
    }
   ],
   "source": [
    "print(\"Exact = {}, midpoint = {}, res = {}, niter = {}\".format(0,midpoint_rule(lambda x: np.sin(x)**15,-1,1,1e-6),abs(0-midpoint_rule(lambda x: np.sin(x)**15,-1,1,1e-6)), midpoint_rule_tests(lambda x: np.sin(x)**15,-1,1,1e-6)[1]))\n",
    "print(\"Exact = {}, midpoint = {}, res = {}, niter = {}\".format(-62.03749646732900,midpoint_rule(lambda x: x**3+x**2+np.log(x+2)-32,-1,1,1e-6),abs(-62.03749646732900-midpoint_rule(lambda x: x**3+x**2+np.log(x+2)-32,-1,1,1e-6)),midpoint_rule_tests(lambda x: x**3+x**2+np.log(x+2)-32,-1,1,1e-6)[1]))\n",
    "print(\"Exact = {}, midpoint = {}, res = {}, niter = {}\".format(np.pi/3,midpoint_rule(lambda x: 1/(1+x**2),0,3**0.5,1e-6),abs(np.pi/3-midpoint_rule(lambda x: 1/(1+x**2),0,3**0.5,1e-6)),midpoint_rule_tests(lambda x: 1/(1+x**2),0,3**0.5,1e-6)[-1]))"
   ]
  },
  {
   "cell_type": "markdown",
   "metadata": {},
   "source": [
    "### Test II.2\n",
    "\n",
    "Now use your midpoint rule to compute the value of\n",
    "\n",
    "$$\n",
    "\\int_0^1\\! \\frac{\\sin{\\sqrt{x}}}{x}\\, dx\n",
    "$$\n",
    "\n",
    "up to a predefined accuracy of $\\epsilon=10^{-4}$.\n",
    "\n",
    "Note that the integral contains an integrable singularity at the lower limit. Do calculations two ways: first, do a straightforward computation; next, subtract the singularity. Compare the number of iterations required to achieve the accuracy of $\\epsilon$.\n",
    "\n",
    "(30% of the total grade)"
   ]
  },
  {
   "cell_type": "code",
   "execution_count": null,
   "metadata": {},
   "outputs": [],
   "source": [
    "# ... ENTER YOUR CODE HERE ...\n",
    "def func(x):\n",
    "    return np.sin(x**0.5)/x\n",
    "\n",
    "\n",
    "def func_mod(x):\n",
    "    return func(x)-1/x**0.5\n",
    "\n",
    "\n",
    "tup1 = midpoint_rule_tests(func,0,1,1e-4)\n",
    "tup2 = midpoint_rule_tests(func_mod,0,1,1e-4)\n",
    "print(\"Straightforward int = {}, niter = {}\".format(tup1[0], tup1[1]))\n",
    "print(\"Subsctract sing int = {}, niter = {}\".format(tup2[0]+2., tup2[1]))"
   ]
  },
  {
   "cell_type": "markdown",
   "metadata": {},
   "source": [
    "Во втором случае программа опять наврала на порядок, а в первом случае на два (относительно искомой точности). При изменении точности вычисления оба способа продолжают врать сильнее ожидаемой точности. Притом вычисление в лоб практически перестаёт увеличивать свою точность"
   ]
  },
  {
   "cell_type": "code",
   "execution_count": null,
   "metadata": {},
   "outputs": [],
   "source": [
    "for i in range(5)\n",
    "    print(np.log((q[i+2]-q[i+1])/(q[i+1]-q[i])/np.log(dots[i+2]/dots[i+1]))"
   ]
  }
 ],
 "metadata": {
  "kernelspec": {
   "display_name": "Python 3",
   "language": "python",
   "name": "python3"
  },
  "language_info": {
   "codemirror_mode": {
    "name": "ipython",
    "version": 3
   },
   "file_extension": ".py",
   "mimetype": "text/x-python",
   "name": "python",
   "nbconvert_exporter": "python",
   "pygments_lexer": "ipython3",
   "version": "3.7.6-final"
  }
 },
 "nbformat": 4,
 "nbformat_minor": 2
}