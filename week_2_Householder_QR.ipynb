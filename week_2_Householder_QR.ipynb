{
 "cells": [
  {
   "cell_type": "code",
   "execution_count": 6,
   "metadata": {},
   "outputs": [],
   "source": [
    "import numpy as np\n",
    "\n",
    "from numpy.testing import assert_allclose"
   ]
  },
  {
   "cell_type": "markdown",
   "metadata": {},
   "source": [
    "# Part I. Construct a Householder reflection of a vector."
   ]
  },
  {
   "cell_type": "markdown",
   "metadata": {},
   "source": [
    "Given a vector $\\mathbf{x}$, and a plane with a normal vector $\\mathbf{u}$, the Householder transformation reflects $\\mathbf{x}$ about the plane.\n",
    "\n",
    "The matrix of the Householder transformation is\n",
    "\n",
    "$$\n",
    "\\mathbf{H} = \\mathbf{1} - 2 \\mathbf{u} \\mathbf{u}^T\n",
    "$$\n",
    "\n",
    "Given two equal-length vectors $\\mathbf{x}$ and $\\mathbf{y}$, a rotation which brings $\\mathbf{x}$ to $\\mathbf{y}$ is a Householder transform with\n",
    "\n",
    "$$\n",
    "\\mathbf{u} = \\frac{\\mathbf{x} - \\mathbf{y}}{\\left|\\mathbf{x} - \\mathbf{y}\\right|}\n",
    "$$"
   ]
  },
  {
   "cell_type": "markdown",
   "metadata": {},
   "source": [
    "Write a function which rotates a given vector, $\\mathbf{x} = (x_1, \\dots, x_n)$ into $\\mathbf{y} = (\\left|\\mathbf{x}\\right|, 0, \\dots, 0)^T$ using a Householder transformation."
   ]
  },
  {
   "cell_type": "code",
   "execution_count": 7,
   "metadata": {},
   "outputs": [],
   "source": [
    "import numpy as np\n",
    "\n",
    "\n",
    "def householder(vec):\n",
    "    \"\"\"Construct a Householder reflection to zero out 2nd and further components of a vector.\n",
    "\n",
    "    Parameters\n",
    "    ----------\n",
    "    vec : array-like of floats, shape (n,)\n",
    "        Input vector\n",
    "    \n",
    "    Returns\n",
    "    -------\n",
    "    outvec : array of floats, shape (n,)\n",
    "        Transformed vector, with ``outvec[1:]==0`` and ``|outvec| == |vec|``\n",
    "    H : array of floats, shape (n, n)\n",
    "        Orthogonal matrix of the Householder reflection\n",
    "    \"\"\"\n",
    "    vec = np.asarray(vec, dtype=float)\n",
    "    if vec.ndim != 1:\n",
    "        raise ValueError(\"vec.ndim = %s, expected 1\" % vec.ndim)\n",
    "    else:\n",
    "        y = np.zeros(len(vec))\n",
    "        y[0] = np.linalg.norm(vec)\n",
    "        u = (vec-y) / np.linalg.norm(vec-y)\n",
    "        H = np.eye(len(vec))-2*np.outer(u,u)\n",
    "        return y, H\n",
    "    \n",
    "    # ... ENTER YOUR CODE HERE ..."
   ]
  },
  {
   "cell_type": "markdown",
   "metadata": {},
   "source": [
    "Test your function using tests below:"
   ]
  },
  {
   "cell_type": "code",
   "execution_count": 8,
   "metadata": {},
   "outputs": [],
   "source": [
    "# Test I.1 (10% of the total grade).\n",
    "\n",
    "v = np.array([1, 2, 3])\n",
    "v1, h = householder(v)\n",
    "from numpy.testing import assert_allclose\n",
    "assert_allclose(np.dot(h, v1), v, atol=1e-15)\n",
    "assert_allclose(np.dot(h, v), v1, atol=1e-15)"
   ]
  },
  {
   "cell_type": "code",
   "execution_count": 9,
   "metadata": {},
   "outputs": [],
   "source": [
    "# Test I.2 (10% of the total grade).\n",
    "\n",
    "rndm = np.random.RandomState(1234)\n",
    "\n",
    "vec = rndm.uniform(size=7)\n",
    "v1, h = householder(vec)\n",
    "\n",
    "assert_allclose(np.dot(h, v1), vec)"
   ]
  },
  {
   "cell_type": "markdown",
   "metadata": {},
   "source": [
    "# Part II. Compute the $\\mathrm{QR}$ decomposition of a matrix.\n",
    "\n",
    "Given a rectangular $m\\times n$ matrix $\\mathbf{A}$, construct a Householder reflector matrix $\\mathbf{H}_1$ which transforms the first column of $\\mathbf{A}$ (and call the result $\\mathbf{A}^{(1)}$)\n",
    "\n",
    "$$\n",
    "\\mathbf{H}_1 \\mathbf{A} =%\n",
    "\\begin{pmatrix}\n",
    "\\times & \\times & \\times & \\dots & \\times \\\\\n",
    "0      & \\times & \\times & \\dots & \\times \\\\\n",
    "0      & \\times & \\times & \\dots & \\times \\\\\n",
    "&& \\dots&& \\\\\n",
    "0      & \\times & \\times & \\dots & \\times \\\\\n",
    "\\end{pmatrix}%\n",
    "\\equiv \\mathbf{A}^{(1)}\\;.\n",
    "$$\n",
    "\n",
    "Now consider the lower-right submatrix of $\\mathbf{A}^{(1)}$, and construct a Householder reflector which annihilates the second column of $\\mathbf{A}$:\n",
    "\n",
    "$$\n",
    "\\mathbf{H}_2 \\mathbf{A}^{(1)} =%\n",
    "\\begin{pmatrix}\n",
    "\\times & \\times & \\times & \\dots & \\times \\\\\n",
    "0      & \\times & \\times & \\dots & \\times \\\\\n",
    "0      & 0      & \\times & \\dots & \\times \\\\\n",
    "&& \\dots&& \\\\\n",
    "0      & 0      & \\times & \\dots & \\times \\\\\n",
    "\\end{pmatrix}%\n",
    "\\equiv \\mathbf{A}^{(2)} \\;.\n",
    "$$\n",
    "\n",
    "Repeating the process $n-1$ times, we obtain\n",
    "\n",
    "$$\n",
    "\\mathbf{H}_{n-1} \\cdots \\mathbf{H}_2 \\mathbf{H}_1 \\mathbf{A} = \\mathbf{R} \\;,\n",
    "$$\n",
    "\n",
    "with $\\mathbf{R}$ an upper triangular matrix. Since each $\\mathbf{H}_k$ is orthogonal, so is their product. The inverse of an orthogonal matrix is orthogonal. Hence the process generates the $\\mathrm{QR}$ decomposition of $\\mathbf{A}$. "
   ]
  },
  {
   "cell_type": "markdown",
   "metadata": {},
   "source": [
    "Write a function, which receives a recangular matrix, $A$, and returns the Q and R factors of the $QR$ factorization of $A$."
   ]
  },
  {
   "cell_type": "code",
   "execution_count": 10,
   "metadata": {},
   "outputs": [],
   "source": [
    "def qr_decomp(a):\n",
    "    \"\"\"Compute the QR decomposition of a matrix.\n",
    "    \n",
    "    Parameters\n",
    "    ----------\n",
    "    a : ndarray, shape(m, n)\n",
    "        The input matrix\n",
    "    \n",
    "    Returns\n",
    "    -------\n",
    "    q : ndarray, shape(m, m)\n",
    "        The orthogonal matrix\n",
    "    r : ndarray, shape(m, n)\n",
    "        The upper triangular matrix\n",
    "        \n",
    "    Examples\n",
    "    --------\n",
    "    >>> a = np.random.random(size=(3, 5))\n",
    "    >>> q, r = qr_decomp(a)\n",
    "    >>> np.assert_allclose(np.dot(q, r), a)\n",
    "    \n",
    "    \"\"\"\n",
    "    a1 = np.array(a, copy=True, dtype=float)\n",
    "    m, n = a1.shape\n",
    "    Q_out = np.eye(m)\n",
    "    for i in range(min(m-1,n)):\n",
    "        Q = np.eye(m)\n",
    "        vec = a1[i:, i]\n",
    "        extra, Q_part = householder(vec)\n",
    "        Q[i:,i:] = Q_part\n",
    "#        print(Q)\n",
    "        Q_out = Q_out @ Q.T\n",
    "        a1 = Q @ a1\n",
    "    return Q_out, a1\n",
    "    # ... ENTER YOUR CODE HERE ..."
   ]
  },
  {
   "cell_type": "code",
   "execution_count": 11,
   "metadata": {},
   "outputs": [],
   "source": [
    "# Might want to turn this on for prettier printing: zeros instead of `1e-16` etc\n",
    "\n",
    "np.set_printoptions(suppress=True)"
   ]
  },
  {
   "cell_type": "code",
   "execution_count": 12,
   "metadata": {},
   "outputs": [],
   "source": [
    "# Test II.1 (20% of the total grade)\n",
    "\n",
    "rndm = np.random.RandomState(1234)\n",
    "a = rndm.uniform(size=(5, 3))\n",
    "q, r = qr_decomp(a)\n",
    "\n",
    "# test that Q is indeed orthogonal\n",
    "assert_allclose(np.dot(q, q.T), np.eye(5), atol=1e-10)\n",
    "\n",
    "# test the decomposition itself\n",
    "assert_allclose(np.dot(q, r), a)"
   ]
  },
  {
   "cell_type": "markdown",
   "metadata": {},
   "source": [
    "Now compare your decompositions to the library function (which actually wraps the corresponding LAPACK functions)"
   ]
  },
  {
   "cell_type": "code",
   "execution_count": 13,
   "metadata": {},
   "outputs": [
    {
     "name": "stdout",
     "output_type": "stream",
     "text": "q =  \n [[ 0.13665049  0.53601299 -0.09369752  0.7697136   0.30459557]\n [ 0.56035895  0.0935397  -0.53326881  0.01839528 -0.62652547]\n [ 0.19725922  0.65948912  0.60068463 -0.32384673 -0.24589462]\n [ 0.62498418 -0.50418303  0.52144688  0.28453698  0.04822969]\n [ 0.48765568  0.12171264 -0.27224305 -0.47049398  0.67223293]] \n qq =  \n [[-0.13665049  0.53601299  0.09369752  0.661619   -0.49749149]\n [-0.56035895  0.0935397   0.53326881 -0.52477245 -0.34276292]\n [-0.19725922  0.65948912 -0.60068463 -0.37879015  0.14784752]\n [-0.62498418 -0.50418303 -0.52144688  0.18967657 -0.21750907]\n [-0.48765568  0.12171264  0.27224305  0.32774225  0.75222783]] \n r =  \n [[ 1.40152769  1.2514379   0.89523615]\n [ 0.          0.84158252  0.68447942]\n [ 0.         -0.          0.5496046 ]\n [ 0.          0.          0.        ]\n [ 0.         -0.         -0.        ]] \n rr =  \n [[-1.40152769 -1.2514379  -0.89523615]\n [ 0.          0.84158252  0.68447942]\n [ 0.          0.         -0.5496046 ]\n [ 0.          0.          0.        ]\n [ 0.          0.          0.        ]] \n aa =  \n [[0.19151945 0.62210877 0.43772774]\n [0.78535858 0.77997581 0.27259261]\n [0.27646426 0.80187218 0.95813935]\n [0.87593263 0.35781727 0.50099513]\n [0.68346294 0.71270203 0.37025075]] \n a =  \n [[0.19151945 0.62210877 0.43772774]\n [0.78535858 0.77997581 0.27259261]\n [0.27646426 0.80187218 0.95813935]\n [0.87593263 0.35781727 0.50099513]\n [0.68346294 0.71270203 0.37025075]]\n"
    }
   ],
   "source": [
    "from scipy.linalg import qr\n",
    "qq, rr = qr(a)\n",
    "\n",
    "assert_allclose(np.dot(qq, rr), a)\n",
    "print(\"q = \",\"\\n\",q,\"\\n\",\"qq = \",\"\\n\", qq,\"\\n\", \"r = \",\"\\n\", r,\"\\n\", \"rr = \",\"\\n\", rr,\"\\n\", \"aa = \",\"\\n\",qq @ rr,\"\\n\",\"a = \",\"\\n\",q @ r)"
   ]
  },
  {
   "cell_type": "markdown",
   "metadata": {},
   "source": [
    "Check if your `q` and `r` agree with `qq` and `rr`. Explain."
   ]
  },
  {
   "cell_type": "markdown",
   "metadata": {},
   "source": [
    "*Enter your explanation here* (10% of the total grade, peer-graded)"
   ]
  },
  {
   "cell_type": "markdown",
   "metadata": {},
   "source": [
    "# Part III. Avoid forming Householder matrices explicitly."
   ]
  },
  {
   "cell_type": "markdown",
   "metadata": {},
   "source": [
    "Note the special structure of the Householder matrices: A reflector $\\mathbf{H}$ is completely specified by a reflection vector $\\mathbf{u}$. Also note that the computational cost of applying a reflector to a matrix strongly depends on the order of operations:\n",
    "\n",
    "$$\n",
    "\\left( \\mathbf{u} \\mathbf{u}^T \\right) \\mathbf{A}  \\qquad \\textrm{is } O(m^2 n)\\;,\n",
    "$$\n",
    "while\n",
    "$$\n",
    "\\mathbf{u} \\left( \\mathbf{u}^T \\mathbf{A} \\right) \\qquad \\textrm{is } O(mn)\n",
    "$$\n",
    "\n",
    "Thus, it seems to make sense to *avoid* forming the $\\mathbf{H}$ matrices. Instead, one stores the reflection vectors, $\\mathbf{u}$, themselves, and provides a way of multiplying an arbitrary matrix by $\\mathbf{Q}^T$, e.g., as a standalone function (or a class)."
   ]
  },
  {
   "cell_type": "markdown",
   "metadata": {},
   "source": [
    "Write a function which constructs the `QR` decomposition of a matrix *without ever forming the* $\\mathbf{H}$ matrices, and returns the $\\mathbf{R}$ matrix and reflection vectors. \n",
    "\n",
    "Write a second function, which uses reflection vectors to multiply a matrix with $\\mathbf{Q}^T$. Make sure to include enough comments for a marker to follow your implementation, and add tests. \n",
    "\n",
    "(Peer-graded, 40% of the total grade)"
   ]
  },
  {
   "cell_type": "code",
   "execution_count": 14,
   "metadata": {},
   "outputs": [],
   "source": [
    "def r_reflection_woh(a):\n",
    "    A = np.array(a, copy=True, dtype=float)\n",
    "    m, n = A.shape\n",
    "    u_ar = np.empty((m,min(m-1,n)))\n",
    "    for i in range(min(m-1,n)):\n",
    "        vec = A[i:, i]     # беру вектор, которые собираюсь отражать\n",
    "        u = np.zeros(m)     \n",
    "        y = np.zeros(len(vec))\n",
    "        y[0] = np.linalg.norm(vec)\n",
    "        u[i:] = (vec-y) / np.linalg.norm(vec-y)     # построил вектор игрек, учитывая, что мы не смотрим на какой-то кусок вектора\n",
    "        A = A - 2*np.outer(u,(u @ A))       #   Строю матрицу Р\n",
    "        u_ar[:,i] = u       # Пихаю в массив вектор отражений\n",
    "    return  A, u_ar"
   ]
  },
  {
   "cell_type": "markdown",
   "metadata": {},
   "source": [
    "Я откровенно **не понимаю** зачем писать вторую функцию, которая будет делать абсолютно то же самое, если матрица У -- унитарная как требование, которые мы на неё кладём с самого начала это идиотизм какой-то"
   ]
  },
  {
   "cell_type": "code",
   "execution_count": 15,
   "metadata": {},
   "outputs": [
    {
     "name": "stdout",
     "output_type": "stream",
     "text": "[[ 1.40152769  1.2514379   0.89523615]\n [ 0.          0.84158252  0.68447942]\n [-0.          0.          0.5496046 ]\n [ 0.          0.          0.        ]\n [ 0.          0.         -0.        ]]\n[[ 1.40152769  1.2514379   0.89523615]\n [ 0.          0.84158252  0.68447942]\n [ 0.         -0.          0.5496046 ]\n [ 0.          0.          0.        ]\n [ 0.         -0.         -0.        ]]\n[[ 1.40152769  1.2514379   0.89523615]\n [ 0.          0.84158252  0.68447942]\n [-0.          0.          0.5496046 ]\n [ 0.          0.          0.        ]\n [ 0.          0.         -0.        ]]\n"
    }
   ],
   "source": [
    "rrr, qqq = r_reflection_woh(a)\n",
    "print(rrr)\n",
    "print(r)\n",
    "print(multiplication_by_given_vecs(a,qqq))"
   ]
  },
  {
   "cell_type": "code",
   "execution_count": 2,
   "metadata": {},
   "outputs": [],
   "source": [
    "def multiplication_by_given_vecs(Matrix,vecs):\n",
    "    matrix = Matrix.copy()\n",
    "    for i in range(vecs.shape[1]):\n",
    "        matrix = matrix - 2*np.outer(vecs[:,i],(vecs[:,i] @ matrix))\n",
    "    return matrix"
   ]
  },
  {
   "cell_type": "code",
   "execution_count": null,
   "metadata": {},
   "outputs": [],
   "source": []
  }
 ],
 "metadata": {
  "kernelspec": {
   "display_name": "Python 3",
   "language": "python",
   "name": "python3"
  },
  "language_info": {
   "codemirror_mode": {
    "name": "ipython",
    "version": 3
   },
   "file_extension": ".py",
   "mimetype": "text/x-python",
   "name": "python",
   "nbconvert_exporter": "python",
   "pygments_lexer": "ipython3",
   "version": "3.7.6-final"
  }
 },
 "nbformat": 4,
 "nbformat_minor": 2
}